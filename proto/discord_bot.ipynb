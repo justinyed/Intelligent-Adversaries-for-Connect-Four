{
 "cells": [
  {
   "cell_type": "markdown",
   "source": [
    "## Bot CMDs Prototype\n",
    "\n",
    "Prototyping notebook for Bot Command Line Interface Parsing.  When a discord bot has been invited and setup in a discord chat, one can interact with it in a variety of ways.  The menu system for the game will be an interaction between the bot and human players.\n",
    "\n",
    "Players will use a callsign like `@c4` (connect-4 bot) followed by commands like `challenge @player-username`.\n",
    "\n",
    "- Likely there will be two top level commands---`challenge`, `leaderboard`.\n",
    "- Aliases---`clg` will be an alias for `challenge` and `lb` will be an alias for `leaderboard`.\n",
    "\n",
    "Resources (for argparse):\n",
    "- [Argparse API](https://docs.python.org/3/library/argparse.html)\n",
    "- [Simple Guide - Towards Data Sci.](https://towardsdatascience.com/a-simple-guide-to-command-line-arguments-with-argparse-6824c30ab1c3)\n",
    "- [Comprehensive Guide - Real Python](https://realpython.com/command-line-interfaces-python-argparse/)"
   ],
   "metadata": {
    "collapsed": false,
    "pycharm": {
     "name": "#%% md\n"
    }
   }
  },
  {
   "cell_type": "code",
   "execution_count": 54,
   "outputs": [
    {
     "name": "stderr",
     "output_type": "stream",
     "text": [
      "usage: ipykernel_launcher.py [-h] (-clg CHALLENGE | -lb LEADERBOARD)\n",
      "ipykernel_launcher.py: error: one of the arguments -clg/--challenge -lb/--leaderboard is required\n"
     ]
    },
    {
     "ename": "SystemExit",
     "evalue": "2",
     "output_type": "error",
     "traceback": [
      "An exception has occurred, use %tb to see the full traceback.\n",
      "\u001B[0;31mSystemExit\u001B[0m\u001B[0;31m:\u001B[0m 2\n"
     ]
    }
   ],
   "source": [
    "import argparse\n",
    "\n",
    "parser = argparse.ArgumentParser()\n",
    "group = parser.add_mutually_exclusive_group(required=True)\n",
    "group.add_argument('-clg','--challenge', type=str, default='dialog_challenge')\n",
    "group.add_argument('-lb','--leaderboard', type=str, default='dialog_leaderboard')\n",
    "args = parser.parse_args()\n",
    "print(vars(args))"
   ],
   "metadata": {
    "collapsed": false,
    "pycharm": {
     "name": "#%%\n"
    }
   }
  },
  {
   "cell_type": "code",
   "execution_count": 31,
   "outputs": [],
   "source": [
    "class Parser:\n",
    "    def __init__(self):\n",
    "        # create parser object\n",
    "        self.parser = argparse.ArgumentParser(prog='c4', description=\"Connect Four Discord Bot\")\n",
    "\n",
    "\n",
    "        self.subparser = self.parser.add_subparsers(dest='command')\n",
    "        challenge = self.subparser.add_parser('challenge')\n",
    "        leaderboard = self.subparser.add_parser('leaderboard')\n",
    "\n",
    "        # challenge parser\n",
    "        challenge.add_argument('player', default='dialog', type=str)\n",
    "\n",
    "\n",
    "\n",
    "        # leaderboard parser\n",
    "        # leaderboard_parser.add_argument()\n",
    "\n",
    "\n",
    "    def parse_args(self, string):\n",
    "        return self.parser.parse_args(string)"
   ],
   "metadata": {
    "collapsed": false,
    "pycharm": {
     "name": "#%%\n"
    }
   }
  },
  {
   "cell_type": "code",
   "execution_count": 32,
   "outputs": [],
   "source": [
    "p = Parser()"
   ],
   "metadata": {
    "collapsed": false,
    "pycharm": {
     "name": "#%%\n"
    }
   }
  },
  {
   "cell_type": "code",
   "execution_count": 35,
   "outputs": [
    {
     "name": "stderr",
     "output_type": "stream",
     "text": [
      "usage: c4 [-h] {challenge,leaderboard} ...\n",
      "c4: error: argument command: invalid choice: 'c' (choose from 'challenge', 'leaderboard')\n"
     ]
    },
    {
     "ename": "AssertionError",
     "evalue": "",
     "output_type": "error",
     "traceback": [
      "\u001B[0;31m---------------------------------------------------------------------------\u001B[0m",
      "\u001B[0;31mArgumentError\u001B[0m                             Traceback (most recent call last)",
      "File \u001B[0;32m/usr/lib/python3.9/argparse.py:1865\u001B[0m, in \u001B[0;36mArgumentParser.parse_known_args\u001B[0;34m(self, args, namespace)\u001B[0m\n\u001B[1;32m   1864\u001B[0m \u001B[38;5;28;01mtry\u001B[39;00m:\n\u001B[0;32m-> 1865\u001B[0m     namespace, args \u001B[38;5;241m=\u001B[39m \u001B[38;5;28;43mself\u001B[39;49m\u001B[38;5;241;43m.\u001B[39;49m\u001B[43m_parse_known_args\u001B[49m\u001B[43m(\u001B[49m\u001B[43margs\u001B[49m\u001B[43m,\u001B[49m\u001B[43m \u001B[49m\u001B[43mnamespace\u001B[49m\u001B[43m)\u001B[49m\n\u001B[1;32m   1866\u001B[0m \u001B[38;5;28;01mexcept\u001B[39;00m ArgumentError:\n",
      "File \u001B[0;32m/usr/lib/python3.9/argparse.py:2077\u001B[0m, in \u001B[0;36mArgumentParser._parse_known_args\u001B[0;34m(self, arg_strings, namespace)\u001B[0m\n\u001B[1;32m   2076\u001B[0m \u001B[38;5;66;03m# consume any positionals following the last Optional\u001B[39;00m\n\u001B[0;32m-> 2077\u001B[0m stop_index \u001B[38;5;241m=\u001B[39m \u001B[43mconsume_positionals\u001B[49m\u001B[43m(\u001B[49m\u001B[43mstart_index\u001B[49m\u001B[43m)\u001B[49m\n\u001B[1;32m   2079\u001B[0m \u001B[38;5;66;03m# if we didn't consume all the argument strings, there were extras\u001B[39;00m\n",
      "File \u001B[0;32m/usr/lib/python3.9/argparse.py:2033\u001B[0m, in \u001B[0;36mArgumentParser._parse_known_args.<locals>.consume_positionals\u001B[0;34m(start_index)\u001B[0m\n\u001B[1;32m   2032\u001B[0m     start_index \u001B[38;5;241m+\u001B[39m\u001B[38;5;241m=\u001B[39m arg_count\n\u001B[0;32m-> 2033\u001B[0m     \u001B[43mtake_action\u001B[49m\u001B[43m(\u001B[49m\u001B[43maction\u001B[49m\u001B[43m,\u001B[49m\u001B[43m \u001B[49m\u001B[43margs\u001B[49m\u001B[43m)\u001B[49m\n\u001B[1;32m   2035\u001B[0m \u001B[38;5;66;03m# slice off the Positionals that we just parsed and return the\u001B[39;00m\n\u001B[1;32m   2036\u001B[0m \u001B[38;5;66;03m# index at which the Positionals' string args stopped\u001B[39;00m\n",
      "File \u001B[0;32m/usr/lib/python3.9/argparse.py:1926\u001B[0m, in \u001B[0;36mArgumentParser._parse_known_args.<locals>.take_action\u001B[0;34m(action, argument_strings, option_string)\u001B[0m\n\u001B[1;32m   1925\u001B[0m seen_actions\u001B[38;5;241m.\u001B[39madd(action)\n\u001B[0;32m-> 1926\u001B[0m argument_values \u001B[38;5;241m=\u001B[39m \u001B[38;5;28;43mself\u001B[39;49m\u001B[38;5;241;43m.\u001B[39;49m\u001B[43m_get_values\u001B[49m\u001B[43m(\u001B[49m\u001B[43maction\u001B[49m\u001B[43m,\u001B[49m\u001B[43m \u001B[49m\u001B[43margument_strings\u001B[49m\u001B[43m)\u001B[49m\n\u001B[1;32m   1928\u001B[0m \u001B[38;5;66;03m# error if this argument is not allowed with other previously\u001B[39;00m\n\u001B[1;32m   1929\u001B[0m \u001B[38;5;66;03m# seen arguments, assuming that actions that use the default\u001B[39;00m\n\u001B[1;32m   1930\u001B[0m \u001B[38;5;66;03m# value don't really count as \"present\"\u001B[39;00m\n",
      "File \u001B[0;32m/usr/lib/python3.9/argparse.py:2467\u001B[0m, in \u001B[0;36mArgumentParser._get_values\u001B[0;34m(self, action, arg_strings)\u001B[0m\n\u001B[1;32m   2466\u001B[0m     value \u001B[38;5;241m=\u001B[39m [\u001B[38;5;28mself\u001B[39m\u001B[38;5;241m.\u001B[39m_get_value(action, v) \u001B[38;5;28;01mfor\u001B[39;00m v \u001B[38;5;129;01min\u001B[39;00m arg_strings]\n\u001B[0;32m-> 2467\u001B[0m     \u001B[38;5;28;43mself\u001B[39;49m\u001B[38;5;241;43m.\u001B[39;49m\u001B[43m_check_value\u001B[49m\u001B[43m(\u001B[49m\u001B[43maction\u001B[49m\u001B[43m,\u001B[49m\u001B[43m \u001B[49m\u001B[43mvalue\u001B[49m\u001B[43m[\u001B[49m\u001B[38;5;241;43m0\u001B[39;49m\u001B[43m]\u001B[49m\u001B[43m)\u001B[49m\n\u001B[1;32m   2469\u001B[0m \u001B[38;5;66;03m# SUPPRESS argument does not put anything in the namespace\u001B[39;00m\n",
      "File \u001B[0;32m/usr/lib/python3.9/argparse.py:2514\u001B[0m, in \u001B[0;36mArgumentParser._check_value\u001B[0;34m(self, action, value)\u001B[0m\n\u001B[1;32m   2513\u001B[0m msg \u001B[38;5;241m=\u001B[39m _(\u001B[38;5;124m'\u001B[39m\u001B[38;5;124minvalid choice: \u001B[39m\u001B[38;5;132;01m%(value)r\u001B[39;00m\u001B[38;5;124m (choose from \u001B[39m\u001B[38;5;132;01m%(choices)s\u001B[39;00m\u001B[38;5;124m)\u001B[39m\u001B[38;5;124m'\u001B[39m)\n\u001B[0;32m-> 2514\u001B[0m \u001B[38;5;28;01mraise\u001B[39;00m ArgumentError(action, msg \u001B[38;5;241m%\u001B[39m args)\n",
      "\u001B[0;31mArgumentError\u001B[0m: argument command: invalid choice: 'c' (choose from 'challenge', 'leaderboard')",
      "\nDuring handling of the above exception, another exception occurred:\n",
      "\u001B[0;31mSystemExit\u001B[0m                                Traceback (most recent call last)",
      "    \u001B[0;31m[... skipping hidden 1 frame]\u001B[0m\n",
      "Input \u001B[0;32mIn [35]\u001B[0m, in \u001B[0;36m<module>\u001B[0;34m\u001B[0m\n\u001B[0;32m----> 1\u001B[0m \u001B[43mp\u001B[49m\u001B[38;5;241;43m.\u001B[39;49m\u001B[43mparse_args\u001B[49m\u001B[43m(\u001B[49m\u001B[38;5;124;43m\"\u001B[39;49m\u001B[38;5;124;43mc4\u001B[39;49m\u001B[38;5;124;43m\"\u001B[39;49m\u001B[43m)\u001B[49m\n",
      "Input \u001B[0;32mIn [31]\u001B[0m, in \u001B[0;36mParser.parse_args\u001B[0;34m(self, string)\u001B[0m\n\u001B[1;32m     18\u001B[0m \u001B[38;5;28;01mdef\u001B[39;00m \u001B[38;5;21mparse_args\u001B[39m(\u001B[38;5;28mself\u001B[39m, string):\n\u001B[0;32m---> 19\u001B[0m     \u001B[38;5;28;01mreturn\u001B[39;00m \u001B[38;5;28;43mself\u001B[39;49m\u001B[38;5;241;43m.\u001B[39;49m\u001B[43mparser\u001B[49m\u001B[38;5;241;43m.\u001B[39;49m\u001B[43mparse_args\u001B[49m\u001B[43m(\u001B[49m\u001B[43mstring\u001B[49m\u001B[43m)\u001B[49m\n",
      "File \u001B[0;32m/usr/lib/python3.9/argparse.py:1832\u001B[0m, in \u001B[0;36mArgumentParser.parse_args\u001B[0;34m(self, args, namespace)\u001B[0m\n\u001B[1;32m   1831\u001B[0m \u001B[38;5;28;01mdef\u001B[39;00m \u001B[38;5;21mparse_args\u001B[39m(\u001B[38;5;28mself\u001B[39m, args\u001B[38;5;241m=\u001B[39m\u001B[38;5;28;01mNone\u001B[39;00m, namespace\u001B[38;5;241m=\u001B[39m\u001B[38;5;28;01mNone\u001B[39;00m):\n\u001B[0;32m-> 1832\u001B[0m     args, argv \u001B[38;5;241m=\u001B[39m \u001B[38;5;28;43mself\u001B[39;49m\u001B[38;5;241;43m.\u001B[39;49m\u001B[43mparse_known_args\u001B[49m\u001B[43m(\u001B[49m\u001B[43margs\u001B[49m\u001B[43m,\u001B[49m\u001B[43m \u001B[49m\u001B[43mnamespace\u001B[49m\u001B[43m)\u001B[49m\n\u001B[1;32m   1833\u001B[0m     \u001B[38;5;28;01mif\u001B[39;00m argv:\n",
      "File \u001B[0;32m/usr/lib/python3.9/argparse.py:1868\u001B[0m, in \u001B[0;36mArgumentParser.parse_known_args\u001B[0;34m(self, args, namespace)\u001B[0m\n\u001B[1;32m   1867\u001B[0m         err \u001B[38;5;241m=\u001B[39m _sys\u001B[38;5;241m.\u001B[39mexc_info()[\u001B[38;5;241m1\u001B[39m]\n\u001B[0;32m-> 1868\u001B[0m         \u001B[38;5;28;43mself\u001B[39;49m\u001B[38;5;241;43m.\u001B[39;49m\u001B[43merror\u001B[49m\u001B[43m(\u001B[49m\u001B[38;5;28;43mstr\u001B[39;49m\u001B[43m(\u001B[49m\u001B[43merr\u001B[49m\u001B[43m)\u001B[49m\u001B[43m)\u001B[49m\n\u001B[1;32m   1869\u001B[0m \u001B[38;5;28;01melse\u001B[39;00m:\n",
      "File \u001B[0;32m/usr/lib/python3.9/argparse.py:2589\u001B[0m, in \u001B[0;36mArgumentParser.error\u001B[0;34m(self, message)\u001B[0m\n\u001B[1;32m   2588\u001B[0m args \u001B[38;5;241m=\u001B[39m {\u001B[38;5;124m'\u001B[39m\u001B[38;5;124mprog\u001B[39m\u001B[38;5;124m'\u001B[39m: \u001B[38;5;28mself\u001B[39m\u001B[38;5;241m.\u001B[39mprog, \u001B[38;5;124m'\u001B[39m\u001B[38;5;124mmessage\u001B[39m\u001B[38;5;124m'\u001B[39m: message}\n\u001B[0;32m-> 2589\u001B[0m \u001B[38;5;28;43mself\u001B[39;49m\u001B[38;5;241;43m.\u001B[39;49m\u001B[43mexit\u001B[49m\u001B[43m(\u001B[49m\u001B[38;5;241;43m2\u001B[39;49m\u001B[43m,\u001B[49m\u001B[43m \u001B[49m\u001B[43m_\u001B[49m\u001B[43m(\u001B[49m\u001B[38;5;124;43m'\u001B[39;49m\u001B[38;5;132;43;01m%(prog)s\u001B[39;49;00m\u001B[38;5;124;43m: error: \u001B[39;49m\u001B[38;5;132;43;01m%(message)s\u001B[39;49;00m\u001B[38;5;130;43;01m\\n\u001B[39;49;00m\u001B[38;5;124;43m'\u001B[39;49m\u001B[43m)\u001B[49m\u001B[43m \u001B[49m\u001B[38;5;241;43m%\u001B[39;49m\u001B[43m \u001B[49m\u001B[43margs\u001B[49m\u001B[43m)\u001B[49m\n",
      "File \u001B[0;32m/usr/lib/python3.9/argparse.py:2576\u001B[0m, in \u001B[0;36mArgumentParser.exit\u001B[0;34m(self, status, message)\u001B[0m\n\u001B[1;32m   2575\u001B[0m     \u001B[38;5;28mself\u001B[39m\u001B[38;5;241m.\u001B[39m_print_message(message, _sys\u001B[38;5;241m.\u001B[39mstderr)\n\u001B[0;32m-> 2576\u001B[0m \u001B[43m_sys\u001B[49m\u001B[38;5;241;43m.\u001B[39;49m\u001B[43mexit\u001B[49m\u001B[43m(\u001B[49m\u001B[43mstatus\u001B[49m\u001B[43m)\u001B[49m\n",
      "\u001B[0;31mSystemExit\u001B[0m: 2",
      "\nDuring handling of the above exception, another exception occurred:\n",
      "\u001B[0;31mAssertionError\u001B[0m                            Traceback (most recent call last)",
      "    \u001B[0;31m[... skipping hidden 1 frame]\u001B[0m\n",
      "File \u001B[0;32m~/Courses/CPSC-498_Capstone/capstone-project-s22/venv/lib/python3.9/site-packages/IPython/core/interactiveshell.py:1927\u001B[0m, in \u001B[0;36mInteractiveShell.showtraceback\u001B[0;34m(self, exc_tuple, filename, tb_offset, exception_only, running_compiled_code)\u001B[0m\n\u001B[1;32m   1924\u001B[0m \u001B[38;5;28;01mif\u001B[39;00m exception_only:\n\u001B[1;32m   1925\u001B[0m     stb \u001B[38;5;241m=\u001B[39m [\u001B[38;5;124m'\u001B[39m\u001B[38;5;124mAn exception has occurred, use \u001B[39m\u001B[38;5;124m%\u001B[39m\u001B[38;5;124mtb to see \u001B[39m\u001B[38;5;124m'\u001B[39m\n\u001B[1;32m   1926\u001B[0m            \u001B[38;5;124m'\u001B[39m\u001B[38;5;124mthe full traceback.\u001B[39m\u001B[38;5;130;01m\\n\u001B[39;00m\u001B[38;5;124m'\u001B[39m]\n\u001B[0;32m-> 1927\u001B[0m     stb\u001B[38;5;241m.\u001B[39mextend(\u001B[38;5;28;43mself\u001B[39;49m\u001B[38;5;241;43m.\u001B[39;49m\u001B[43mInteractiveTB\u001B[49m\u001B[38;5;241;43m.\u001B[39;49m\u001B[43mget_exception_only\u001B[49m\u001B[43m(\u001B[49m\u001B[43metype\u001B[49m\u001B[43m,\u001B[49m\n\u001B[1;32m   1928\u001B[0m \u001B[43m                                                     \u001B[49m\u001B[43mvalue\u001B[49m\u001B[43m)\u001B[49m)\n\u001B[1;32m   1929\u001B[0m \u001B[38;5;28;01melse\u001B[39;00m:\n\u001B[1;32m   1930\u001B[0m     \u001B[38;5;28;01mtry\u001B[39;00m:\n\u001B[1;32m   1931\u001B[0m         \u001B[38;5;66;03m# Exception classes can customise their traceback - we\u001B[39;00m\n\u001B[1;32m   1932\u001B[0m         \u001B[38;5;66;03m# use this in IPython.parallel for exceptions occurring\u001B[39;00m\n\u001B[1;32m   1933\u001B[0m         \u001B[38;5;66;03m# in the engines. This should return a list of strings.\u001B[39;00m\n",
      "File \u001B[0;32m~/Courses/CPSC-498_Capstone/capstone-project-s22/venv/lib/python3.9/site-packages/IPython/core/ultratb.py:578\u001B[0m, in \u001B[0;36mListTB.get_exception_only\u001B[0;34m(self, etype, value)\u001B[0m\n\u001B[1;32m    570\u001B[0m \u001B[38;5;28;01mdef\u001B[39;00m \u001B[38;5;21mget_exception_only\u001B[39m(\u001B[38;5;28mself\u001B[39m, etype, value):\n\u001B[1;32m    571\u001B[0m     \u001B[38;5;124;03m\"\"\"Only print the exception type and message, without a traceback.\u001B[39;00m\n\u001B[1;32m    572\u001B[0m \n\u001B[1;32m    573\u001B[0m \u001B[38;5;124;03m    Parameters\u001B[39;00m\n\u001B[0;32m   (...)\u001B[0m\n\u001B[1;32m    576\u001B[0m \u001B[38;5;124;03m    value : exception value\u001B[39;00m\n\u001B[1;32m    577\u001B[0m \u001B[38;5;124;03m    \"\"\"\u001B[39;00m\n\u001B[0;32m--> 578\u001B[0m     \u001B[38;5;28;01mreturn\u001B[39;00m \u001B[43mListTB\u001B[49m\u001B[38;5;241;43m.\u001B[39;49m\u001B[43mstructured_traceback\u001B[49m\u001B[43m(\u001B[49m\u001B[38;5;28;43mself\u001B[39;49m\u001B[43m,\u001B[49m\u001B[43m \u001B[49m\u001B[43metype\u001B[49m\u001B[43m,\u001B[49m\u001B[43m \u001B[49m\u001B[43mvalue\u001B[49m\u001B[43m)\u001B[49m\n",
      "File \u001B[0;32m~/Courses/CPSC-498_Capstone/capstone-project-s22/venv/lib/python3.9/site-packages/IPython/core/ultratb.py:436\u001B[0m, in \u001B[0;36mListTB.structured_traceback\u001B[0;34m(self, etype, evalue, etb, tb_offset, context)\u001B[0m\n\u001B[1;32m    433\u001B[0m     chained_exc_ids\u001B[38;5;241m.\u001B[39madd(\u001B[38;5;28mid\u001B[39m(exception[\u001B[38;5;241m1\u001B[39m]))\n\u001B[1;32m    434\u001B[0m     chained_exceptions_tb_offset \u001B[38;5;241m=\u001B[39m \u001B[38;5;241m0\u001B[39m\n\u001B[1;32m    435\u001B[0m     out_list \u001B[38;5;241m=\u001B[39m (\n\u001B[0;32m--> 436\u001B[0m         \u001B[38;5;28;43mself\u001B[39;49m\u001B[38;5;241;43m.\u001B[39;49m\u001B[43mstructured_traceback\u001B[49m\u001B[43m(\u001B[49m\n\u001B[1;32m    437\u001B[0m \u001B[43m            \u001B[49m\u001B[43metype\u001B[49m\u001B[43m,\u001B[49m\u001B[43m \u001B[49m\u001B[43mevalue\u001B[49m\u001B[43m,\u001B[49m\u001B[43m \u001B[49m\u001B[43m(\u001B[49m\u001B[43metb\u001B[49m\u001B[43m,\u001B[49m\u001B[43m \u001B[49m\u001B[43mchained_exc_ids\u001B[49m\u001B[43m)\u001B[49m\u001B[43m,\u001B[49m\n\u001B[1;32m    438\u001B[0m \u001B[43m            \u001B[49m\u001B[43mchained_exceptions_tb_offset\u001B[49m\u001B[43m,\u001B[49m\u001B[43m \u001B[49m\u001B[43mcontext\u001B[49m\u001B[43m)\u001B[49m\n\u001B[1;32m    439\u001B[0m         \u001B[38;5;241m+\u001B[39m chained_exception_message\n\u001B[1;32m    440\u001B[0m         \u001B[38;5;241m+\u001B[39m out_list)\n\u001B[1;32m    442\u001B[0m \u001B[38;5;28;01mreturn\u001B[39;00m out_list\n",
      "File \u001B[0;32m~/Courses/CPSC-498_Capstone/capstone-project-s22/venv/lib/python3.9/site-packages/IPython/core/ultratb.py:1105\u001B[0m, in \u001B[0;36mAutoFormattedTB.structured_traceback\u001B[0;34m(self, etype, value, tb, tb_offset, number_of_lines_of_context)\u001B[0m\n\u001B[1;32m   1103\u001B[0m \u001B[38;5;28;01melse\u001B[39;00m:\n\u001B[1;32m   1104\u001B[0m     \u001B[38;5;28mself\u001B[39m\u001B[38;5;241m.\u001B[39mtb \u001B[38;5;241m=\u001B[39m tb\n\u001B[0;32m-> 1105\u001B[0m \u001B[38;5;28;01mreturn\u001B[39;00m \u001B[43mFormattedTB\u001B[49m\u001B[38;5;241;43m.\u001B[39;49m\u001B[43mstructured_traceback\u001B[49m\u001B[43m(\u001B[49m\n\u001B[1;32m   1106\u001B[0m \u001B[43m    \u001B[49m\u001B[38;5;28;43mself\u001B[39;49m\u001B[43m,\u001B[49m\u001B[43m \u001B[49m\u001B[43metype\u001B[49m\u001B[43m,\u001B[49m\u001B[43m \u001B[49m\u001B[43mvalue\u001B[49m\u001B[43m,\u001B[49m\u001B[43m \u001B[49m\u001B[43mtb\u001B[49m\u001B[43m,\u001B[49m\u001B[43m \u001B[49m\u001B[43mtb_offset\u001B[49m\u001B[43m,\u001B[49m\u001B[43m \u001B[49m\u001B[43mnumber_of_lines_of_context\u001B[49m\u001B[43m)\u001B[49m\n",
      "File \u001B[0;32m~/Courses/CPSC-498_Capstone/capstone-project-s22/venv/lib/python3.9/site-packages/IPython/core/ultratb.py:999\u001B[0m, in \u001B[0;36mFormattedTB.structured_traceback\u001B[0;34m(self, etype, value, tb, tb_offset, number_of_lines_of_context)\u001B[0m\n\u001B[1;32m    996\u001B[0m mode \u001B[38;5;241m=\u001B[39m \u001B[38;5;28mself\u001B[39m\u001B[38;5;241m.\u001B[39mmode\n\u001B[1;32m    997\u001B[0m \u001B[38;5;28;01mif\u001B[39;00m mode \u001B[38;5;129;01min\u001B[39;00m \u001B[38;5;28mself\u001B[39m\u001B[38;5;241m.\u001B[39mverbose_modes:\n\u001B[1;32m    998\u001B[0m     \u001B[38;5;66;03m# Verbose modes need a full traceback\u001B[39;00m\n\u001B[0;32m--> 999\u001B[0m     \u001B[38;5;28;01mreturn\u001B[39;00m \u001B[43mVerboseTB\u001B[49m\u001B[38;5;241;43m.\u001B[39;49m\u001B[43mstructured_traceback\u001B[49m\u001B[43m(\u001B[49m\n\u001B[1;32m   1000\u001B[0m \u001B[43m        \u001B[49m\u001B[38;5;28;43mself\u001B[39;49m\u001B[43m,\u001B[49m\u001B[43m \u001B[49m\u001B[43metype\u001B[49m\u001B[43m,\u001B[49m\u001B[43m \u001B[49m\u001B[43mvalue\u001B[49m\u001B[43m,\u001B[49m\u001B[43m \u001B[49m\u001B[43mtb\u001B[49m\u001B[43m,\u001B[49m\u001B[43m \u001B[49m\u001B[43mtb_offset\u001B[49m\u001B[43m,\u001B[49m\u001B[43m \u001B[49m\u001B[43mnumber_of_lines_of_context\u001B[49m\n\u001B[1;32m   1001\u001B[0m \u001B[43m    \u001B[49m\u001B[43m)\u001B[49m\n\u001B[1;32m   1002\u001B[0m \u001B[38;5;28;01melif\u001B[39;00m mode \u001B[38;5;241m==\u001B[39m \u001B[38;5;124m'\u001B[39m\u001B[38;5;124mMinimal\u001B[39m\u001B[38;5;124m'\u001B[39m:\n\u001B[1;32m   1003\u001B[0m     \u001B[38;5;28;01mreturn\u001B[39;00m ListTB\u001B[38;5;241m.\u001B[39mget_exception_only(\u001B[38;5;28mself\u001B[39m, etype, value)\n",
      "File \u001B[0;32m~/Courses/CPSC-498_Capstone/capstone-project-s22/venv/lib/python3.9/site-packages/IPython/core/ultratb.py:852\u001B[0m, in \u001B[0;36mVerboseTB.structured_traceback\u001B[0;34m(self, etype, evalue, etb, tb_offset, number_of_lines_of_context)\u001B[0m\n\u001B[1;32m    850\u001B[0m \u001B[38;5;124;03m\"\"\"Return a nice text document describing the traceback.\"\"\"\u001B[39;00m\n\u001B[1;32m    851\u001B[0m \u001B[38;5;28;01massert\u001B[39;00m etb \u001B[38;5;129;01mis\u001B[39;00m \u001B[38;5;129;01mnot\u001B[39;00m \u001B[38;5;28;01mNone\u001B[39;00m\n\u001B[0;32m--> 852\u001B[0m formatted_exception \u001B[38;5;241m=\u001B[39m \u001B[38;5;28;43mself\u001B[39;49m\u001B[38;5;241;43m.\u001B[39;49m\u001B[43mformat_exception_as_a_whole\u001B[49m\u001B[43m(\u001B[49m\u001B[43metype\u001B[49m\u001B[43m,\u001B[49m\u001B[43m \u001B[49m\u001B[43mevalue\u001B[49m\u001B[43m,\u001B[49m\u001B[43m \u001B[49m\u001B[43metb\u001B[49m\u001B[43m,\u001B[49m\u001B[43m \u001B[49m\u001B[43mnumber_of_lines_of_context\u001B[49m\u001B[43m,\u001B[49m\n\u001B[1;32m    853\u001B[0m \u001B[43m                                                       \u001B[49m\u001B[43mtb_offset\u001B[49m\u001B[43m)\u001B[49m\n\u001B[1;32m    855\u001B[0m colors \u001B[38;5;241m=\u001B[39m \u001B[38;5;28mself\u001B[39m\u001B[38;5;241m.\u001B[39mColors  \u001B[38;5;66;03m# just a shorthand + quicker name lookup\u001B[39;00m\n\u001B[1;32m    856\u001B[0m colorsnormal \u001B[38;5;241m=\u001B[39m colors\u001B[38;5;241m.\u001B[39mNormal  \u001B[38;5;66;03m# used a lot\u001B[39;00m\n",
      "File \u001B[0;32m~/Courses/CPSC-498_Capstone/capstone-project-s22/venv/lib/python3.9/site-packages/IPython/core/ultratb.py:786\u001B[0m, in \u001B[0;36mVerboseTB.format_exception_as_a_whole\u001B[0;34m(self, etype, evalue, etb, number_of_lines_of_context, tb_offset)\u001B[0m\n\u001B[1;32m    784\u001B[0m \u001B[38;5;28;01massert\u001B[39;00m \u001B[38;5;28misinstance\u001B[39m(tb_offset, \u001B[38;5;28mint\u001B[39m)\n\u001B[1;32m    785\u001B[0m head \u001B[38;5;241m=\u001B[39m \u001B[38;5;28mself\u001B[39m\u001B[38;5;241m.\u001B[39mprepare_header(etype, \u001B[38;5;28mself\u001B[39m\u001B[38;5;241m.\u001B[39mlong_header)\n\u001B[0;32m--> 786\u001B[0m records \u001B[38;5;241m=\u001B[39m \u001B[38;5;28;43mself\u001B[39;49m\u001B[38;5;241;43m.\u001B[39;49m\u001B[43mget_records\u001B[49m\u001B[43m(\u001B[49m\u001B[43metb\u001B[49m\u001B[43m,\u001B[49m\u001B[43m \u001B[49m\u001B[43mnumber_of_lines_of_context\u001B[49m\u001B[43m,\u001B[49m\u001B[43m \u001B[49m\u001B[43mtb_offset\u001B[49m\u001B[43m)\u001B[49m\n\u001B[1;32m    788\u001B[0m frames \u001B[38;5;241m=\u001B[39m []\n\u001B[1;32m    789\u001B[0m skipped \u001B[38;5;241m=\u001B[39m \u001B[38;5;241m0\u001B[39m\n",
      "File \u001B[0;32m~/Courses/CPSC-498_Capstone/capstone-project-s22/venv/lib/python3.9/site-packages/IPython/core/ultratb.py:840\u001B[0m, in \u001B[0;36mVerboseTB.get_records\u001B[0;34m(self, etb, number_of_lines_of_context, tb_offset)\u001B[0m\n\u001B[1;32m    834\u001B[0m options \u001B[38;5;241m=\u001B[39m stack_data\u001B[38;5;241m.\u001B[39mOptions(\n\u001B[1;32m    835\u001B[0m     before\u001B[38;5;241m=\u001B[39mbefore,\n\u001B[1;32m    836\u001B[0m     after\u001B[38;5;241m=\u001B[39mafter,\n\u001B[1;32m    837\u001B[0m     pygments_formatter\u001B[38;5;241m=\u001B[39mformatter,\n\u001B[1;32m    838\u001B[0m )\n\u001B[1;32m    839\u001B[0m \u001B[38;5;28;01massert\u001B[39;00m etb \u001B[38;5;129;01mis\u001B[39;00m \u001B[38;5;129;01mnot\u001B[39;00m \u001B[38;5;28;01mNone\u001B[39;00m\n\u001B[0;32m--> 840\u001B[0m \u001B[38;5;28;01mreturn\u001B[39;00m \u001B[38;5;28;43mlist\u001B[39;49m\u001B[43m(\u001B[49m\u001B[43mstack_data\u001B[49m\u001B[38;5;241;43m.\u001B[39;49m\u001B[43mFrameInfo\u001B[49m\u001B[38;5;241;43m.\u001B[39;49m\u001B[43mstack_data\u001B[49m\u001B[43m(\u001B[49m\u001B[43metb\u001B[49m\u001B[43m,\u001B[49m\u001B[43m \u001B[49m\u001B[43moptions\u001B[49m\u001B[38;5;241;43m=\u001B[39;49m\u001B[43moptions\u001B[49m\u001B[43m)\u001B[49m\u001B[43m)\u001B[49m[tb_offset:]\n",
      "File \u001B[0;32m~/Courses/CPSC-498_Capstone/capstone-project-s22/venv/lib/python3.9/site-packages/stack_data/core.py:534\u001B[0m, in \u001B[0;36mFrameInfo.stack_data\u001B[0;34m(cls, frame_or_tb, options, collapse_repeated_frames)\u001B[0m\n\u001B[1;32m    518\u001B[0m \u001B[38;5;129m@classmethod\u001B[39m\n\u001B[1;32m    519\u001B[0m \u001B[38;5;28;01mdef\u001B[39;00m \u001B[38;5;21mstack_data\u001B[39m(\n\u001B[1;32m    520\u001B[0m         \u001B[38;5;28mcls\u001B[39m,\n\u001B[0;32m   (...)\u001B[0m\n\u001B[1;32m    524\u001B[0m         collapse_repeated_frames: \u001B[38;5;28mbool\u001B[39m \u001B[38;5;241m=\u001B[39m \u001B[38;5;28;01mTrue\u001B[39;00m\n\u001B[1;32m    525\u001B[0m ) \u001B[38;5;241m-\u001B[39m\u001B[38;5;241m>\u001B[39m Iterator[Union[\u001B[38;5;124m'\u001B[39m\u001B[38;5;124mFrameInfo\u001B[39m\u001B[38;5;124m'\u001B[39m, RepeatedFrames]]:\n\u001B[1;32m    526\u001B[0m     \u001B[38;5;124;03m\"\"\"\u001B[39;00m\n\u001B[1;32m    527\u001B[0m \u001B[38;5;124;03m    An iterator of FrameInfo and RepeatedFrames objects representing\u001B[39;00m\n\u001B[1;32m    528\u001B[0m \u001B[38;5;124;03m    a full traceback or stack. Similar consecutive frames are collapsed into RepeatedFrames\u001B[39;00m\n\u001B[0;32m   (...)\u001B[0m\n\u001B[1;32m    532\u001B[0m \u001B[38;5;124;03m    and optionally an Options object to configure.\u001B[39;00m\n\u001B[1;32m    533\u001B[0m \u001B[38;5;124;03m    \"\"\"\u001B[39;00m\n\u001B[0;32m--> 534\u001B[0m     stack \u001B[38;5;241m=\u001B[39m \u001B[38;5;28;43mlist\u001B[39;49m\u001B[43m(\u001B[49m\u001B[43miter_stack\u001B[49m\u001B[43m(\u001B[49m\u001B[43mframe_or_tb\u001B[49m\u001B[43m)\u001B[49m\u001B[43m)\u001B[49m\n\u001B[1;32m    536\u001B[0m     \u001B[38;5;66;03m# Reverse the stack from a frame so that it's in the same order\u001B[39;00m\n\u001B[1;32m    537\u001B[0m     \u001B[38;5;66;03m# as the order from a traceback, which is the order of a printed\u001B[39;00m\n\u001B[1;32m    538\u001B[0m     \u001B[38;5;66;03m# traceback when read top to bottom (most recent call last)\u001B[39;00m\n\u001B[1;32m    539\u001B[0m     \u001B[38;5;28;01mif\u001B[39;00m is_frame(frame_or_tb):\n",
      "File \u001B[0;32m~/Courses/CPSC-498_Capstone/capstone-project-s22/venv/lib/python3.9/site-packages/stack_data/utils.py:98\u001B[0m, in \u001B[0;36miter_stack\u001B[0;34m(frame_or_tb)\u001B[0m\n\u001B[1;32m     96\u001B[0m \u001B[38;5;28;01mwhile\u001B[39;00m frame_or_tb:\n\u001B[1;32m     97\u001B[0m     \u001B[38;5;28;01myield\u001B[39;00m frame_or_tb\n\u001B[0;32m---> 98\u001B[0m     \u001B[38;5;28;01mif\u001B[39;00m \u001B[43mis_frame\u001B[49m\u001B[43m(\u001B[49m\u001B[43mframe_or_tb\u001B[49m\u001B[43m)\u001B[49m:\n\u001B[1;32m     99\u001B[0m         frame_or_tb \u001B[38;5;241m=\u001B[39m frame_or_tb\u001B[38;5;241m.\u001B[39mf_back\n\u001B[1;32m    100\u001B[0m     \u001B[38;5;28;01melse\u001B[39;00m:\n",
      "File \u001B[0;32m~/Courses/CPSC-498_Capstone/capstone-project-s22/venv/lib/python3.9/site-packages/stack_data/utils.py:91\u001B[0m, in \u001B[0;36mis_frame\u001B[0;34m(frame_or_tb)\u001B[0m\n\u001B[1;32m     90\u001B[0m \u001B[38;5;28;01mdef\u001B[39;00m \u001B[38;5;21mis_frame\u001B[39m(frame_or_tb: Union[FrameType, TracebackType]) \u001B[38;5;241m-\u001B[39m\u001B[38;5;241m>\u001B[39m \u001B[38;5;28mbool\u001B[39m:\n\u001B[0;32m---> 91\u001B[0m     \u001B[43massert_\u001B[49m\u001B[43m(\u001B[49m\u001B[38;5;28;43misinstance\u001B[39;49m\u001B[43m(\u001B[49m\u001B[43mframe_or_tb\u001B[49m\u001B[43m,\u001B[49m\u001B[43m \u001B[49m\u001B[43m(\u001B[49m\u001B[43mtypes\u001B[49m\u001B[38;5;241;43m.\u001B[39;49m\u001B[43mFrameType\u001B[49m\u001B[43m,\u001B[49m\u001B[43m \u001B[49m\u001B[43mtypes\u001B[49m\u001B[38;5;241;43m.\u001B[39;49m\u001B[43mTracebackType\u001B[49m\u001B[43m)\u001B[49m\u001B[43m)\u001B[49m\u001B[43m)\u001B[49m\n\u001B[1;32m     92\u001B[0m     \u001B[38;5;28;01mreturn\u001B[39;00m \u001B[38;5;28misinstance\u001B[39m(frame_or_tb, (types\u001B[38;5;241m.\u001B[39mFrameType,))\n",
      "File \u001B[0;32m~/Courses/CPSC-498_Capstone/capstone-project-s22/venv/lib/python3.9/site-packages/stack_data/utils.py:172\u001B[0m, in \u001B[0;36massert_\u001B[0;34m(condition, error)\u001B[0m\n\u001B[1;32m    170\u001B[0m \u001B[38;5;28;01mif\u001B[39;00m \u001B[38;5;28misinstance\u001B[39m(error, \u001B[38;5;28mstr\u001B[39m):\n\u001B[1;32m    171\u001B[0m     error \u001B[38;5;241m=\u001B[39m \u001B[38;5;167;01mAssertionError\u001B[39;00m(error)\n\u001B[0;32m--> 172\u001B[0m \u001B[38;5;28;01mraise\u001B[39;00m error\n",
      "\u001B[0;31mAssertionError\u001B[0m: "
     ]
    }
   ],
   "source": [
    "p.parse_args(\"c4\")"
   ],
   "metadata": {
    "collapsed": false,
    "pycharm": {
     "name": "#%%\n"
    }
   }
  },
  {
   "cell_type": "markdown",
   "source": [],
   "metadata": {
    "collapsed": false,
    "pycharm": {
     "name": "#%% md\n"
    }
   }
  }
 ],
 "metadata": {
  "kernelspec": {
   "display_name": "Python 3",
   "language": "python",
   "name": "python3"
  },
  "language_info": {
   "codemirror_mode": {
    "name": "ipython",
    "version": 2
   },
   "file_extension": ".py",
   "mimetype": "text/x-python",
   "name": "python",
   "nbconvert_exporter": "python",
   "pygments_lexer": "ipython2",
   "version": "2.7.6"
  }
 },
 "nbformat": 4,
 "nbformat_minor": 0
}