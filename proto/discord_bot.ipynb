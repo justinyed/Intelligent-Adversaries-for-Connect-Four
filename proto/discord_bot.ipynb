{
 "cells": [
  {
   "cell_type": "markdown",
   "source": [
    "## Bot CMDs Prototype\n",
    "\n",
    "Prototyping notebook for Bot Command Line Interface Parsing.  When a discord bot has been invited and setup in a discord chat, one can interact with it in a variety of ways.  The menu system for the game will be an interaction between the bot and human players.  Players will use a callsign like `@c4` (connect-4 bot) followed by commands like `challenge @player-username`.\n",
    "\n",
    "- Likely there will be three top level commands---`challenge`, `leaderboard`, and `settings`.\n",
    "- Aliases---`play` and `clg` will be aliases for `challenge` and `lb` will be an alias for `leaderboard`.\n",
    "- Settings shall only be accessible to administrators and will likely be developed last, since it would not hinder a demo too terribly.\n",
    "\n",
    "Resources (for argparse):\n",
    "- [Argparse API](https://docs.python.org/3/library/argparse.html)\n",
    "- [Simple Guide - Towards Data Sci.](https://towardsdatascience.com/a-simple-guide-to-command-line-arguments-with-argparse-6824c30ab1c3)\n",
    "- [Comprehensive Guide - Real Python](https://realpython.com/command-line-interfaces-python-argparse/)"
   ],
   "metadata": {
    "collapsed": false,
    "pycharm": {
     "name": "#%% md\n"
    }
   }
  },
  {
   "cell_type": "code",
   "execution_count": 5,
   "outputs": [],
   "source": [
    "import argparse"
   ],
   "metadata": {
    "collapsed": false,
    "pycharm": {
     "name": "#%%\n"
    }
   }
  },
  {
   "cell_type": "code",
   "execution_count": 25,
   "outputs": [],
   "source": [
    "class parser:\n",
    "    def __init__(self):\n",
    "        # create parser object\n",
    "        self.parser = argparse.ArgumentParser(description=\"A connect 4 bot\")\n",
    "        self.subparser = self.parser.add_subparsers(dest='command')\n",
    "        challenge_parser = self.subparser.add_parser('challenge')\n",
    "        # leaderboard_parser = self.subparser.add_parser('leaderboard')\n",
    "\n",
    "        # challenge parser\n",
    "        challenge_parser.add_argument(' ', type=str, default='dialog', required=False)\n",
    "        challenge_parser.add_argument('player', type=str, required=False)\n",
    "        agent_subparser = challenge_parser.add_subparsers(dest='command')\n",
    "\n",
    "        # agent parser\n",
    "        agent_parser = agent_subparser.add_parser('agent')\n",
    "        agent_parser.add_argument(type=str, required=False)\n",
    "        agent_parser.add_argument('-d', '--difficulty', type=int, required=False)\n",
    "        agent_parser.add_argument('-t', '--timer', type=int, required=False)\n",
    "\n",
    "\n",
    "\n",
    "        # leaderboard parser\n",
    "        # leaderboard_parser.add_argument()\n",
    "\n",
    "\n",
    "    def parse_args(self, string):\n",
    "        return self.parser.parse_args(string)"
   ],
   "metadata": {
    "collapsed": false,
    "pycharm": {
     "name": "#%%\n"
    }
   }
  },
  {
   "cell_type": "code",
   "execution_count": 25,
   "outputs": [],
   "source": [],
   "metadata": {
    "collapsed": false,
    "pycharm": {
     "name": "#%%\n"
    }
   }
  },
  {
   "cell_type": "code",
   "execution_count": 26,
   "outputs": [],
   "source": [
    "Parser = parser"
   ],
   "metadata": {
    "collapsed": false,
    "pycharm": {
     "name": "#%%\n"
    }
   }
  },
  {
   "cell_type": "code",
   "execution_count": 27,
   "outputs": [
    {
     "ename": "TypeError",
     "evalue": "parse_args() missing 1 required positional argument: 'string'",
     "output_type": "error",
     "traceback": [
      "\u001B[0;31m---------------------------------------------------------------------------\u001B[0m",
      "\u001B[0;31mTypeError\u001B[0m                                 Traceback (most recent call last)",
      "Input \u001B[0;32mIn [27]\u001B[0m, in \u001B[0;36m<module>\u001B[0;34m\u001B[0m\n\u001B[0;32m----> 1\u001B[0m \u001B[43mParser\u001B[49m\u001B[38;5;241;43m.\u001B[39;49m\u001B[43mparse_args\u001B[49m\u001B[43m(\u001B[49m\u001B[38;5;124;43m'\u001B[39;49m\u001B[38;5;124;43mchallenge\u001B[39;49m\u001B[38;5;124;43m'\u001B[39;49m\u001B[43m)\u001B[49m\n",
      "\u001B[0;31mTypeError\u001B[0m: parse_args() missing 1 required positional argument: 'string'"
     ]
    }
   ],
   "source": [
    "Parser.parse_args('challenge')"
   ],
   "metadata": {
    "collapsed": false,
    "pycharm": {
     "name": "#%%\n"
    }
   }
  },
  {
   "cell_type": "markdown",
   "source": [],
   "metadata": {
    "collapsed": false,
    "pycharm": {
     "name": "#%% md\n"
    }
   }
  }
 ],
 "metadata": {
  "kernelspec": {
   "display_name": "Python 3",
   "language": "python",
   "name": "python3"
  },
  "language_info": {
   "codemirror_mode": {
    "name": "ipython",
    "version": 2
   },
   "file_extension": ".py",
   "mimetype": "text/x-python",
   "name": "python",
   "nbconvert_exporter": "python",
   "pygments_lexer": "ipython2",
   "version": "2.7.6"
  }
 },
 "nbformat": 4,
 "nbformat_minor": 0
}