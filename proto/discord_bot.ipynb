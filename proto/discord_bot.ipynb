{
 "cells": [
  {
   "cell_type": "markdown",
   "source": [
    "## Bot CMDs Prototype\n",
    "\n",
    "Prototyping notebook for Bot Command Line Interface Parsing.  When a discord bot has been invited and setup in a discord chat, one can interact with it in a variety of ways.  The menu system for the game will be an interaction between the bot and human players.\n",
    "\n",
    "Players will use a callsign like `@c4` (connect-4 bot) followed by commands like `challenge @player-username`.\n",
    "\n",
    "- Likely there will be two top level commands---`challenge`, `leaderboard`.\n",
    "- Aliases---`clg` will be an alias for `challenge` and `lb` will be an alias for `leaderboard`.\n",
    "\n",
    "Resources (for argparse):\n",
    "- [Argparse API](https://docs.python.org/3/library/argparse.html)\n",
    "- [Simple Guide - Towards Data Sci.](https://towardsdatascience.com/a-simple-guide-to-command-line-arguments-with-argparse-6824c30ab1c3)\n",
    "- [Comprehensive Guide - Real Python](https://realpython.com/command-line-interfaces-python-argparse/)"
   ],
   "metadata": {
    "collapsed": false,
    "pycharm": {
     "name": "#%% md\n"
    }
   }
  },
  {
   "cell_type": "code",
   "execution_count": 1,
   "outputs": [
    {
     "name": "stderr",
     "output_type": "stream",
     "text": [
      "usage: ipykernel_launcher.py [-h] (-clg CHALLENGE | -lb LEADERBOARD)\n",
      "ipykernel_launcher.py: error: one of the arguments -clg/--challenge -lb/--leaderboard is required\n"
     ]
    },
    {
     "ename": "SystemExit",
     "evalue": "2",
     "output_type": "error",
     "traceback": [
      "An exception has occurred, use %tb to see the full traceback.\n",
      "\u001B[0;31mSystemExit\u001B[0m\u001B[0;31m:\u001B[0m 2\n"
     ]
    },
    {
     "name": "stderr",
     "output_type": "stream",
     "text": [
      "/home/user/Courses/CPSC-498_Capstone/capstone-project-s22/venv/lib/python3.9/site-packages/IPython/core/interactiveshell.py:3259: UserWarning: To exit: use 'exit', 'quit', or Ctrl-D.\n",
      "  warn(\"To exit: use 'exit', 'quit', or Ctrl-D.\", stacklevel=1)\n"
     ]
    }
   ],
   "source": [
    "import argparse\n",
    "\n",
    "parser = argparse.ArgumentParser()\n",
    "group = parser.add_mutually_exclusive_group(required=True)\n",
    "group.add_argument('-clg','--challenge', type=str, default='dialog_challenge')\n",
    "group.add_argument('-lb','--leaderboard', type=str, default='dialog_leaderboard')\n",
    "args = parser.parse_args()\n",
    "print(vars(args))"
   ],
   "metadata": {
    "collapsed": false,
    "pycharm": {
     "name": "#%%\n"
    }
   }
  },
  {
   "cell_type": "code",
   "execution_count": null,
   "outputs": [],
   "source": [
    "class Parser:\n",
    "    def __init__(self):\n",
    "        # create parser object\n",
    "        self.parser = argparse.ArgumentParser(prog='c4', description=\"Connect Four Discord Bot\")\n",
    "\n",
    "\n",
    "        self.subparser = self.parser.add_subparsers(dest='command')\n",
    "        challenge = self.subparser.add_parser('challenge')\n",
    "        leaderboard = self.subparser.add_parser('leaderboard')\n",
    "\n",
    "        # challenge parser\n",
    "        challenge.add_argument('player', default='dialog', type=str)\n",
    "\n",
    "\n",
    "\n",
    "        # leaderboard parser\n",
    "        # leaderboard_parser.add_argument()\n",
    "\n",
    "\n",
    "    def parse_args(self, string):\n",
    "        return self.parser.parse_args(string)"
   ],
   "metadata": {
    "collapsed": false,
    "pycharm": {
     "name": "#%%\n"
    }
   }
  },
  {
   "cell_type": "code",
   "execution_count": null,
   "outputs": [],
   "source": [
    "p = Parser()"
   ],
   "metadata": {
    "collapsed": false,
    "pycharm": {
     "name": "#%%\n"
    }
   }
  },
  {
   "cell_type": "code",
   "execution_count": 2,
   "outputs": [
    {
     "ename": "NameError",
     "evalue": "name 'p' is not defined",
     "output_type": "error",
     "traceback": [
      "\u001B[0;31m---------------------------------------------------------------------------\u001B[0m",
      "\u001B[0;31mNameError\u001B[0m                                 Traceback (most recent call last)",
      "Input \u001B[0;32mIn [2]\u001B[0m, in \u001B[0;36m<module>\u001B[0;34m\u001B[0m\n\u001B[0;32m----> 1\u001B[0m \u001B[43mp\u001B[49m\u001B[38;5;241m.\u001B[39mparse_args(\u001B[38;5;124m\"\u001B[39m\u001B[38;5;124mc4\u001B[39m\u001B[38;5;124m\"\u001B[39m)\n",
      "\u001B[0;31mNameError\u001B[0m: name 'p' is not defined"
     ]
    }
   ],
   "source": [
    "p.parse_args(\"c4\")"
   ],
   "metadata": {
    "collapsed": false,
    "pycharm": {
     "name": "#%%\n"
    }
   }
  },
  {
   "cell_type": "markdown",
   "source": [],
   "metadata": {
    "collapsed": false,
    "pycharm": {
     "name": "#%% md\n"
    }
   }
  }
 ],
 "metadata": {
  "kernelspec": {
   "display_name": "Python 3",
   "language": "python",
   "name": "python3"
  },
  "language_info": {
   "codemirror_mode": {
    "name": "ipython",
    "version": 2
   },
   "file_extension": ".py",
   "mimetype": "text/x-python",
   "name": "python",
   "nbconvert_exporter": "python",
   "pygments_lexer": "ipython2",
   "version": "2.7.6"
  }
 },
 "nbformat": 4,
 "nbformat_minor": 0
}