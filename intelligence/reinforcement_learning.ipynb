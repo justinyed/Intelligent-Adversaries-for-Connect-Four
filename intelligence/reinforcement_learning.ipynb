{
 "cells": [
  {
   "cell_type": "code",
   "execution_count": 42,
   "metadata": {
    "collapsed": true
   },
   "outputs": [],
   "source": [
    "import intelligence\n",
    "import game_components\n",
    "import json\n",
    "from collections import defaultdict\n",
    "PATH = \"./data/values.json\""
   ]
  },
  {
   "cell_type": "code",
   "execution_count": 43,
   "outputs": [],
   "source": [
    "file = open(PATH)\n",
    "values = json.load(file)\n",
    "file.close()\n",
    "values = defaultdict(lambda :0, values)"
   ],
   "metadata": {
    "collapsed": false,
    "pycharm": {
     "name": "#%%\n"
    }
   }
  },
  {
   "cell_type": "code",
   "execution_count": 44,
   "outputs": [],
   "source": [
    "player1 = intelligence.QLearning(values=values, learning_rate=0.0, exploration_rate=0.0)\n",
    "player2 = intelligence.MiniMax(depth_limit=1)\n",
    "\n",
    "record = {1: 0, -1: 0, 3: 0, 0: 0}\n",
    "\n",
    "def simulate_game(n=0):\n",
    "\n",
    "    game = game_components.ConnectFour()\n",
    "\n",
    "    while game.get_turn() <= 15 and game.is_active_state():\n",
    "        if game.get_turn() % game.get_player_count() == 0:\n",
    "            action = player1.get_action(game)\n",
    "        else:\n",
    "            action = player2.get_action(game)\n",
    "\n",
    "        game.perform_action(action)\n",
    "        # print(\".\", end=\"\")\n",
    "\n",
    "    status = game.get_status()\n",
    "    record[status] += 1\n",
    "    # print(f\"\\nFinished game={n + 1}\\tstatus={status}\")\n",
    "    return"
   ],
   "metadata": {
    "collapsed": false,
    "pycharm": {
     "name": "#%%\n"
    }
   }
  },
  {
   "cell_type": "code",
   "execution_count": 45,
   "outputs": [
    {
     "name": "stdout",
     "output_type": "stream",
     "text": [
      "{1: 0, -1: 937, 3: 0, 0: 63}\n"
     ]
    }
   ],
   "source": [
    "for i in range(1000):\n",
    "    simulate_game(i)\n",
    "    # print(\"Done\")\n",
    "\n",
    "print(record)\n",
    "record = {1: 0, -1: 0, 3: 0, 0: 0}"
   ],
   "metadata": {
    "collapsed": false,
    "pycharm": {
     "name": "#%%\n"
    }
   }
  },
  {
   "cell_type": "code",
   "execution_count": 46,
   "outputs": [
    {
     "name": "stdout",
     "output_type": "stream",
     "text": [
      "Unseen States 102\n",
      "Seen States 5312\n"
     ]
    }
   ],
   "source": [
    "print(f\"Unseen States {player1.get_unseen()}\")\n",
    "print(f\"Seen States {player1.get_seen()}\")"
   ],
   "metadata": {
    "collapsed": false,
    "pycharm": {
     "name": "#%%\n"
    }
   }
  },
  {
   "cell_type": "code",
   "execution_count": 46,
   "outputs": [],
   "source": [],
   "metadata": {
    "collapsed": false,
    "pycharm": {
     "name": "#%%\n"
    }
   }
  }
 ],
 "metadata": {
  "kernelspec": {
   "display_name": "Python 3",
   "language": "python",
   "name": "python3"
  },
  "language_info": {
   "codemirror_mode": {
    "name": "ipython",
    "version": 2
   },
   "file_extension": ".py",
   "mimetype": "text/x-python",
   "name": "python",
   "nbconvert_exporter": "python",
   "pygments_lexer": "ipython2",
   "version": "2.7.6"
  }
 },
 "nbformat": 4,
 "nbformat_minor": 0
}