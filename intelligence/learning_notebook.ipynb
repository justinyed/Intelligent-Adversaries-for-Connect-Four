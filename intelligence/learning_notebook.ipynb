{
 "cells": [
  {
   "cell_type": "code",
   "execution_count": 129,
   "metadata": {
    "collapsed": true
   },
   "outputs": [],
   "source": [
    "import intelligence\n",
    "import game_components\n",
    "import csv\n",
    "import pandas as pd\n",
    "import time\n",
    "import numpy as np\n",
    "import ast\n",
    "\n",
    "ORIGINAL_PATH = \"./data/connect-4.data\"\n",
    "NEW_FILE = './data/data.pkl'"
   ]
  },
  {
   "cell_type": "code",
   "execution_count": 130,
   "outputs": [],
   "source": [
    "df = pd.read_csv(ORIGINAL_PATH, header=None)\n",
    "future_status = df[42]\n",
    "df = df.drop(42, axis=1)\n",
    "def convert(row):\n",
    "    return np.fliplr(np.flip(np.dstack(np.split(np.array(row, dtype=np.int8), [6, 12, 18, 24, 30, 36])).squeeze())).reshape((6,7))\n",
    "\n",
    "states = df.apply(convert, axis=1)\n",
    "df = pd.concat([pd.DataFrame(states), future_status], axis=1)\n",
    "df: pd.DataFrame = df.rename({0: 'state', 42: 'future_status'}, axis=1)"
   ],
   "metadata": {
    "collapsed": false,
    "pycharm": {
     "name": "#%%\n"
    }
   }
  },
  {
   "cell_type": "code",
   "execution_count": 131,
   "outputs": [],
   "source": [
    "df.to_pickle(NEW_FILE)"
   ],
   "metadata": {
    "collapsed": false,
    "pycharm": {
     "name": "#%%\n"
    }
   }
  },
  {
   "cell_type": "code",
   "execution_count": 132,
   "outputs": [],
   "source": [
    "df = pd.read_pickle(NEW_FILE)"
   ],
   "metadata": {
    "collapsed": false,
    "pycharm": {
     "name": "#%%\n"
    }
   }
  },
  {
   "cell_type": "code",
   "execution_count": 133,
   "outputs": [
    {
     "data": {
      "text/plain": "array([[ 0,  0,  0, -1,  0,  0,  0],\n       [ 0,  0,  0,  1,  0,  0,  0],\n       [ 0,  0,  0, -1,  0,  0,  0],\n       [ 0,  0,  0,  1,  0,  0,  0],\n       [ 0,  0, -1, -1,  0,  0,  0],\n       [ 0,  0,  1,  1,  0,  0,  0]], dtype=int8)"
     },
     "execution_count": 133,
     "metadata": {},
     "output_type": "execute_result"
    }
   ],
   "source": [
    "df.iloc[0].state"
   ],
   "metadata": {
    "collapsed": false,
    "pycharm": {
     "name": "#%%\n"
    }
   }
  },
  {
   "cell_type": "code",
   "execution_count": 133,
   "outputs": [],
   "source": [],
   "metadata": {
    "collapsed": false,
    "pycharm": {
     "name": "#%%\n"
    }
   }
  }
 ],
 "metadata": {
  "kernelspec": {
   "display_name": "Python 3",
   "language": "python",
   "name": "python3"
  },
  "language_info": {
   "codemirror_mode": {
    "name": "ipython",
    "version": 2
   },
   "file_extension": ".py",
   "mimetype": "text/x-python",
   "name": "python",
   "nbconvert_exporter": "python",
   "pygments_lexer": "ipython2",
   "version": "2.7.6"
  }
 },
 "nbformat": 4,
 "nbformat_minor": 0
}