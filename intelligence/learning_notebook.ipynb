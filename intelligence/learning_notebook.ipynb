{
 "cells": [
  {
   "cell_type": "code",
   "execution_count": 1,
   "metadata": {
    "collapsed": true
   },
   "outputs": [],
   "source": [
    "import intelligence\n",
    "import game_components\n",
    "import csv\n",
    "import pandas as pd\n",
    "import time\n",
    "import numpy as np\n",
    "import ast\n",
    "\n",
    "ORIGINAL_PATH = \"./data/connect-4.data\"\n",
    "NEW_FILE = './data/first_8_ply.pkl'"
   ]
  },
  {
   "cell_type": "code",
   "execution_count": 2,
   "outputs": [],
   "source": [
    "df = pd.read_csv(ORIGINAL_PATH, header=None)\n",
    "future_status = df[42]\n",
    "df = df.drop(42, axis=1)\n",
    "def convert(row):\n",
    "    return np.fliplr(np.flip(np.dstack(np.split(np.array(row, dtype=np.int8), [6, 12, 18, 24, 30, 36])).squeeze())).reshape((6,7))\n",
    "\n",
    "states = df.apply(convert, axis=1)\n",
    "df = pd.concat([pd.DataFrame(states), future_status], axis=1)\n",
    "df: pd.DataFrame = df.rename({0: 'state', 42: 'likely_terminal_status'}, axis=1)"
   ],
   "metadata": {
    "collapsed": false,
    "pycharm": {
     "name": "#%%\n"
    }
   }
  },
  {
   "cell_type": "code",
   "execution_count": 3,
   "outputs": [],
   "source": [
    "df.to_pickle(NEW_FILE)"
   ],
   "metadata": {
    "collapsed": false,
    "pycharm": {
     "name": "#%%\n"
    }
   }
  },
  {
   "cell_type": "code",
   "execution_count": 4,
   "outputs": [],
   "source": [
    "df = pd.read_pickle(NEW_FILE)"
   ],
   "metadata": {
    "collapsed": false,
    "pycharm": {
     "name": "#%%\n"
    }
   }
  },
  {
   "cell_type": "code",
   "execution_count": 5,
   "outputs": [
    {
     "data": {
      "text/plain": "array([[ 0,  0,  0, -1,  0,  0,  0],\n       [ 0,  0,  0,  1,  0,  0,  0],\n       [ 0,  0,  0, -1,  0,  0,  0],\n       [ 0,  0,  0,  1,  0,  0,  0],\n       [ 0,  0, -1, -1,  0,  0,  0],\n       [ 0,  0,  1,  1,  0,  0,  0]], dtype=int8)"
     },
     "execution_count": 5,
     "metadata": {},
     "output_type": "execute_result"
    }
   ],
   "source": [
    "df.iloc[0].state"
   ],
   "metadata": {
    "collapsed": false,
    "pycharm": {
     "name": "#%%\n"
    }
   }
  },
  {
   "cell_type": "code",
   "execution_count": 6,
   "outputs": [
    {
     "data": {
      "text/plain": "                                                   state  \\\n0      [[0, 0, 0, -1, 0, 0, 0], [0, 0, 0, 1, 0, 0, 0]...   \n1      [[0, 0, 0, -1, 0, 0, 0], [0, 0, 0, 1, 0, 0, 0]...   \n2      [[0, 0, 0, -1, 0, 0, 0], [0, 0, 0, 1, 0, 0, 0]...   \n3      [[0, 0, 0, -1, 0, 0, 0], [0, 0, 0, 1, 0, 0, 0]...   \n4      [[0, 0, 0, -1, 0, 0, 0], [0, 0, 0, 1, 0, 0, 0]...   \n...                                                  ...   \n67552  [[0, 0, 0, 0, 0, 0, 0], [0, 0, 0, 0, 0, 0, 0],...   \n67553  [[0, 0, 0, 0, 0, 0, 0], [0, 0, 0, 0, 0, 0, 1],...   \n67554  [[0, 0, 0, 0, 0, 0, 0], [0, 0, 0, 0, 0, 0, 0],...   \n67555  [[0, 0, 0, 0, 0, 0, 0], [0, 0, 0, 0, 0, 0, 1],...   \n67556  [[0, 0, 0, 0, 0, 0, 0], [1, 0, 0, 0, 0, 0, 0],...   \n\n       likely_terminal_status  \n0                           1  \n1                           1  \n2                           1  \n3                           1  \n4                           1  \n...                       ...  \n67552                      -1  \n67553                       3  \n67554                      -1  \n67555                       3  \n67556                       3  \n\n[67557 rows x 2 columns]",
      "text/html": "<div>\n<style scoped>\n    .dataframe tbody tr th:only-of-type {\n        vertical-align: middle;\n    }\n\n    .dataframe tbody tr th {\n        vertical-align: top;\n    }\n\n    .dataframe thead th {\n        text-align: right;\n    }\n</style>\n<table border=\"1\" class=\"dataframe\">\n  <thead>\n    <tr style=\"text-align: right;\">\n      <th></th>\n      <th>state</th>\n      <th>likely_terminal_status</th>\n    </tr>\n  </thead>\n  <tbody>\n    <tr>\n      <th>0</th>\n      <td>[[0, 0, 0, -1, 0, 0, 0], [0, 0, 0, 1, 0, 0, 0]...</td>\n      <td>1</td>\n    </tr>\n    <tr>\n      <th>1</th>\n      <td>[[0, 0, 0, -1, 0, 0, 0], [0, 0, 0, 1, 0, 0, 0]...</td>\n      <td>1</td>\n    </tr>\n    <tr>\n      <th>2</th>\n      <td>[[0, 0, 0, -1, 0, 0, 0], [0, 0, 0, 1, 0, 0, 0]...</td>\n      <td>1</td>\n    </tr>\n    <tr>\n      <th>3</th>\n      <td>[[0, 0, 0, -1, 0, 0, 0], [0, 0, 0, 1, 0, 0, 0]...</td>\n      <td>1</td>\n    </tr>\n    <tr>\n      <th>4</th>\n      <td>[[0, 0, 0, -1, 0, 0, 0], [0, 0, 0, 1, 0, 0, 0]...</td>\n      <td>1</td>\n    </tr>\n    <tr>\n      <th>...</th>\n      <td>...</td>\n      <td>...</td>\n    </tr>\n    <tr>\n      <th>67552</th>\n      <td>[[0, 0, 0, 0, 0, 0, 0], [0, 0, 0, 0, 0, 0, 0],...</td>\n      <td>-1</td>\n    </tr>\n    <tr>\n      <th>67553</th>\n      <td>[[0, 0, 0, 0, 0, 0, 0], [0, 0, 0, 0, 0, 0, 1],...</td>\n      <td>3</td>\n    </tr>\n    <tr>\n      <th>67554</th>\n      <td>[[0, 0, 0, 0, 0, 0, 0], [0, 0, 0, 0, 0, 0, 0],...</td>\n      <td>-1</td>\n    </tr>\n    <tr>\n      <th>67555</th>\n      <td>[[0, 0, 0, 0, 0, 0, 0], [0, 0, 0, 0, 0, 0, 1],...</td>\n      <td>3</td>\n    </tr>\n    <tr>\n      <th>67556</th>\n      <td>[[0, 0, 0, 0, 0, 0, 0], [1, 0, 0, 0, 0, 0, 0],...</td>\n      <td>3</td>\n    </tr>\n  </tbody>\n</table>\n<p>67557 rows × 2 columns</p>\n</div>"
     },
     "execution_count": 6,
     "metadata": {},
     "output_type": "execute_result"
    }
   ],
   "source": [
    "df"
   ],
   "metadata": {
    "collapsed": false,
    "pycharm": {
     "name": "#%%\n"
    }
   }
  },
  {
   "cell_type": "code",
   "execution_count": 6,
   "outputs": [],
   "source": [],
   "metadata": {
    "collapsed": false,
    "pycharm": {
     "name": "#%%\n"
    }
   }
  }
 ],
 "metadata": {
  "kernelspec": {
   "display_name": "Python 3",
   "language": "python",
   "name": "python3"
  },
  "language_info": {
   "codemirror_mode": {
    "name": "ipython",
    "version": 2
   },
   "file_extension": ".py",
   "mimetype": "text/x-python",
   "name": "python",
   "nbconvert_exporter": "python",
   "pygments_lexer": "ipython2",
   "version": "2.7.6"
  }
 },
 "nbformat": 4,
 "nbformat_minor": 0
}